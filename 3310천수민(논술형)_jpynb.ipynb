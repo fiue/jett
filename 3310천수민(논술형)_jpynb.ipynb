{
  "nbformat": 4,
  "nbformat_minor": 0,
  "metadata": {
    "colab": {
      "name": "3310천수민(논술형).jpynb",
      "provenance": [],
      "authorship_tag": "ABX9TyPDgYkGu5Gyt/bcFvCBQtoj",
      "include_colab_link": true
    },
    "kernelspec": {
      "name": "python3",
      "display_name": "Python 3"
    },
    "language_info": {
      "name": "python"
    }
  },
  "cells": [
    {
      "cell_type": "markdown",
      "metadata": {
        "id": "view-in-github",
        "colab_type": "text"
      },
      "source": [
        "<a href=\"https://colab.research.google.com/github/fiue/jett/blob/main/3310%EC%B2%9C%EC%88%98%EB%AF%BC(%EB%85%BC%EC%88%A0%ED%98%95)_jpynb.ipynb\" target=\"_parent\"><img src=\"https://colab.research.google.com/assets/colab-badge.svg\" alt=\"Open In Colab\"/></a>"
      ]
    },
    {
      "cell_type": "markdown",
      "source": [
        "컴퓨터과 3학년 3반 19번 천수민\n"
      ],
      "metadata": {
        "id": "ihkOAO8dGGqF"
      }
    },
    {
      "cell_type": "code",
      "source": [
        "num1 = int (input(\"첫 번째 숫자를 입력 ==> \"));\n",
        "num2 = int (input(\"두 번째 숫자를 입력 ==> \"));\n",
        "result1 = num1 + num2;\n",
        "result2 = num1 - num2;\n",
        "result3 = num1 * num2;\n",
        "result4 = num1 / num2;\n",
        "result5 = num1 // num2;\n",
        "result6 = num1 % num2; \n",
        "result7 = num1 **  num2;\n",
        "\n",
        "print(num1, \"+\", num2, \"=\", result1);\n",
        "print(num1, \"-\", num2, \"=\", result2);\n",
        "print(num1, \"*\", num2, \"=\", result3);\n",
        "print(num1, \"/\", num2, \"=\", result4);\n",
        "print(num1, \"//\", num2, \"=\", result5);\n",
        "print(num1, \"%\", num2, \"=\", result6);\n",
        "print(num1, \"**\", num2, \"=\", result7);"
      ],
      "metadata": {
        "colab": {
          "base_uri": "https://localhost:8080/"
        },
        "id": "msUYO27pGaa-",
        "outputId": "5591a048-4b13-4e84-ce8b-c9e242b3fe02"
      },
      "execution_count": 2,
      "outputs": [
        {
          "output_type": "stream",
          "name": "stdout",
          "text": [
            "첫 번째 숫자를 입력 ==> 2\n",
            "두 번째 숫자를 입력 ==> 4\n",
            "2 + 4 = 6\n",
            "2 - 4 = -2\n",
            "2 * 4 = 8\n",
            "2 / 4 = 0.5\n",
            "2 // 4 = 0\n",
            "2 % 4 = 2\n",
            "2 ** 4 = 16\n"
          ]
        }
      ]
    }
  ]
}