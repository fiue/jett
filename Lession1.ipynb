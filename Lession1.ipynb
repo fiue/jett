{
  "nbformat": 4,
  "nbformat_minor": 0,
  "metadata": {
    "colab": {
      "name": "Lession1.ipynb",
      "provenance": [],
      "authorship_tag": "ABX9TyODt/2y+KZyNxA7TAMxkvYp",
      "include_colab_link": true
    },
    "kernelspec": {
      "name": "python3",
      "display_name": "Python 3"
    },
    "language_info": {
      "name": "python"
    }
  },
  "cells": [
    {
      "cell_type": "markdown",
      "metadata": {
        "id": "view-in-github",
        "colab_type": "text"
      },
      "source": [
        "<a href=\"https://colab.research.google.com/github/fiue/jett/blob/main/Lession1.ipynb\" target=\"_parent\"><img src=\"https://colab.research.google.com/assets/colab-badge.svg\" alt=\"Open In Colab\"/></a>"
      ]
    },
    {
      "cell_type": "code",
      "execution_count": null,
      "metadata": {
        "id": "PAoQgs0ForFd"
      },
      "outputs": [],
      "source": [
        "안산공고 컴퓨터과 3학년 3반 19번 천수민"
      ]
    },
    {
      "cell_type": "code",
      "source": [
        "print(\"내일은 즐거운 졸업여행\")\n",
        "print(\"준비물 잘 챙기자\")\n",
        "print(\"다치지말고 재미있게 놀다 오자.\")"
      ],
      "metadata": {
        "colab": {
          "base_uri": "https://localhost:8080/"
        },
        "id": "8Sj2j5xJpC1s",
        "outputId": "8dddef83-56f1-4f62-fc4e-5c78dd396e3a"
      },
      "execution_count": 1,
      "outputs": [
        {
          "output_type": "stream",
          "name": "stdout",
          "text": [
            "내일은 즐거운 졸업여행\n",
            "준비물 잘 챙기자\n",
            "다치지말고 재미있게 놀다 오자.\n"
          ]
        }
      ]
    },
    {
      "cell_type": "markdown",
      "source": [
        "변수 사용 예)"
      ],
      "metadata": {
        "id": "IHTnM587qNMc"
      }
    },
    {
      "cell_type": "code",
      "source": [
        "a= 100\n",
        "b= 200\n",
        "result (a + b)\n",
        "print(a \"+\" , b, \"=\")\n"
      ],
      "metadata": {
        "id": "oOiVS67fpskC"
      },
      "execution_count": null,
      "outputs": []
    },
    {
      "cell_type": "markdown",
      "source": [
        "100+200 = 300"
      ],
      "metadata": {
        "id": "_BtZ__B1qkLy"
      }
    },
    {
      "cell_type": "code",
      "source": [
        "num1 = 100\n",
        "num2 = 200\n",
        "result = num1 * num2 \n",
        "print(num1, \"*\" num2, \"&\") result"
      ],
      "metadata": {
        "id": "MomwuLhsqwpy"
      },
      "execution_count": null,
      "outputs": []
    },
    {
      "cell_type": "markdown",
      "source": [
        "num 100 x 200 = 20000"
      ],
      "metadata": {
        "id": "t6sIFwCArPwi"
      }
    },
    {
      "cell_type": "code",
      "source": [
        "num 1 = 100\n",
        "num 2 = 200\n",
        "resuit = num1 // num2\n",
        "print(num1, \"//\", num 2 \"=\" , resuit)"
      ],
      "metadata": {
        "id": "76ij5BIdrfhb"
      },
      "execution_count": null,
      "outputs": []
    },
    {
      "cell_type": "markdown",
      "source": [
        "num 100 // 200 = 0"
      ],
      "metadata": {
        "id": "mzO6SWclr5iK"
      }
    },
    {
      "cell_type": "code",
      "source": [
        "num1 = 100\n",
        "num2 = 200\n",
        "resuit = num1 \"-\" num2\n",
        "print(num1 \"-\", num2, \"=\", resuit)\n"
      ],
      "metadata": {
        "id": "3eOyzTA7sBZ6"
      },
      "execution_count": null,
      "outputs": []
    },
    {
      "cell_type": "markdown",
      "source": [
        "100-200 = -100"
      ],
      "metadata": {
        "id": "F9pCEIbQsnb0"
      }
    },
    {
      "cell_type": "code",
      "source": [
        "num1 = 100\n",
        "num2 = 200\n",
        "resuit = num1 \"/\" num 2 \n",
        "print(num1 \"/\", num2 \"=\", resuit)\n"
      ],
      "metadata": {
        "id": "jmpt6hmystXp"
      },
      "execution_count": null,
      "outputs": []
    },
    {
      "cell_type": "markdown",
      "source": [
        "100/200 = 0.5"
      ],
      "metadata": {
        "id": "HPiPgqzxtLm7"
      }
    }
  ]
}