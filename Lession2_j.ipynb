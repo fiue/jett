{
  "nbformat": 4,
  "nbformat_minor": 0,
  "metadata": {
    "colab": {
      "name": "Lession2.j",
      "provenance": [],
      "authorship_tag": "ABX9TyPwuzOv9AIvCzSuqzx9XW/a",
      "include_colab_link": true
    },
    "kernelspec": {
      "name": "python3",
      "display_name": "Python 3"
    },
    "language_info": {
      "name": "python"
    }
  },
  "cells": [
    {
      "cell_type": "markdown",
      "metadata": {
        "id": "view-in-github",
        "colab_type": "text"
      },
      "source": [
        "<a href=\"https://colab.research.google.com/github/fiue/jett/blob/main/Lession2_j.ipynb\" target=\"_parent\"><img src=\"https://colab.research.google.com/assets/colab-badge.svg\" alt=\"Open In Colab\"/></a>"
      ]
    },
    {
      "cell_type": "markdown",
      "source": [
        "파이썬 2장\n",
        "   변수와 input()함수"
      ],
      "metadata": {
        "id": "UgBKAbxOLthh"
      }
    },
    {
      "cell_type": "code",
      "source": [
        "num1 = 100;\n",
        "num2 = 200;\n",
        "result1 = num1 + num2;\n",
        "result2 = num1 - num2;\n",
        "result3 = num1 / num2;\n",
        "result4 = num1 * num2;\n",
        "\n",
        "print(num1, \"+\", num2, \"=\", result1);\n",
        "print(num1, \"-\", num2, \"=\", result2);\n",
        "print(num1, \"/\", num2, \"=\", result3);\n",
        "print(num1, \"*\", num2, \"=\", result4);"
      ],
      "metadata": {
        "colab": {
          "base_uri": "https://localhost:8080/"
        },
        "id": "jsvDDaf1Lt24",
        "outputId": "6c36f03d-9467-46c9-f5e3-7606873be37b"
      },
      "execution_count": 2,
      "outputs": [
        {
          "output_type": "stream",
          "name": "stdout",
          "text": [
            "100 + 200 = 300\n",
            "100 - 200 = -100\n",
            "100 / 200 = 0.5\n",
            "100 * 200 = 20000\n"
          ]
        }
      ]
    },
    {
      "cell_type": "markdown",
      "source": [
        "input()함수 예제"
      ],
      "metadata": {
        "id": "LRQXcoFvKTlx"
      }
    },
    {
      "cell_type": "code",
      "source": [
        "num1 = int(input(\"첫번재 숫자를 입력 ==>\"));\n",
        "num2 = int(input(\"두번재 숫자를 입력 ==>\"));\n",
        "result1 = num1 +  num2;\n",
        "result2 = num1 - num2;\n",
        "result3 = num1 / num2;\n",
        "result4 = num1 * num2;\n",
        "\n",
        "print(num1, \"+\",num2, \"=\", result1);\n",
        "print(num1, \"-\", num2, \"=\", result2);\n",
        "print(num1, \"/\", num2, \"=\", result3);\n",
        "print(num1, \"*\", num2, \"=\", result4);"
      ],
      "metadata": {
        "id": "SthT6aw0Dtbl"
      },
      "execution_count": null,
      "outputs": []
    },
    {
      "cell_type": "code",
      "source": [
        "첫번재 숫자를 입력 ==>100\n",
        "두번재 숫자를 입력 ==>200\n",
        " 100 + 200 = 300 \n",
        " 100 - 200 = -100\n",
        " 100 / 200 = 0.5\n",
        " 100 * 200 = 20000"
      ],
      "metadata": {
        "id": "ZSAMYktCMi_o"
      },
      "execution_count": null,
      "outputs": []
    },
    {
      "cell_type": "code",
      "source": [
        "print(\"** 논술형 문제 - input() 함수를 이용한 간단한 계산기\");\n",
        "num1 = float(input(\"첫번째 숫자를 입력\"));\n",
        "num2 = float(input(\"두번째 숫자를 입력\"));\n",
        "print(num1,\"+\",num2, \"=\" ,num1+num2)"
      ],
      "metadata": {
        "id": "xZn4-bY_LCmx"
      },
      "execution_count": null,
      "outputs": []
    }
  ]
}