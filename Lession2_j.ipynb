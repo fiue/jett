{
  "nbformat": 4,
  "nbformat_minor": 0,
  "metadata": {
    "colab": {
      "name": "Lession2.j",
      "provenance": [],
      "authorship_tag": "ABX9TyOEewugHBHGHfy/DoVtJH4w",
      "include_colab_link": true
    },
    "kernelspec": {
      "name": "python3",
      "display_name": "Python 3"
    },
    "language_info": {
      "name": "python"
    }
  },
  "cells": [
    {
      "cell_type": "markdown",
      "metadata": {
        "id": "view-in-github",
        "colab_type": "text"
      },
      "source": [
        "<a href=\"https://colab.research.google.com/github/fiue/jett/blob/main/Lession2_j.ipynb\" target=\"_parent\"><img src=\"https://colab.research.google.com/assets/colab-badge.svg\" alt=\"Open In Colab\"/></a>"
      ]
    },
    {
      "cell_type": "markdown",
      "source": [
        "파이썬 2장\n",
        "   변수와 input()함수"
      ],
      "metadata": {
        "id": "UgBKAbxOLthh"
      }
    },
    {
      "cell_type": "code",
      "source": [
        "num1 = 100;\n",
        "num2 = 200;\n",
        "result1 = num1 + num2;\n",
        "result2 = num1 - num2;\n",
        "result3 = num1 / num2;\n",
        "result4 = num1 * num2;\n",
        "\n",
        "print(num1, \"+\", num2, \"=\", result1);\n",
        "print(num1, \"-\", num2, \"=\", result2);\n",
        "print(num1, \"/\", num2, \"=\", result3);\n",
        "print(num1, \"*\", num2, \"=\", result4);"
      ],
      "metadata": {
        "colab": {
          "base_uri": "https://localhost:8080/"
        },
        "id": "jsvDDaf1Lt24",
        "outputId": "6c36f03d-9467-46c9-f5e3-7606873be37b"
      },
      "execution_count": 2,
      "outputs": [
        {
          "output_type": "stream",
          "name": "stdout",
          "text": [
            "100 + 200 = 300\n",
            "100 - 200 = -100\n",
            "100 / 200 = 0.5\n",
            "100 * 200 = 20000\n"
          ]
        }
      ]
    },
    {
      "cell_type": "markdown",
      "source": [
        "input()함수 예제"
      ],
      "metadata": {
        "id": "LRQXcoFvKTlx"
      }
    },
    {
      "cell_type": "code",
      "source": [
        "num1 = int(input(\"첫번재 숫자를 입력 ==>\"));\n",
        "num2 = int(input(\"두번재 숫자를 입력 ==>\"));\n",
        "result1 = num1 +  num2;\n",
        "result2 = num1 - num2;\n",
        "result3 = num1 / num2;\n",
        "result4 = num1 * num2;\n",
        "\n",
        "print(num1, \"+\",num2, \"=\", result1);\n",
        "print(num1, \"-\", num2, \"=\", result2);\n",
        "print(num1, \"/\", num2, \"=\", result3);\n",
        "print(num1, \"*\", num2, \"=\", result4);"
      ],
      "metadata": {
        "id": "SthT6aw0Dtbl"
      },
      "execution_count": null,
      "outputs": []
    },
    {
      "cell_type": "code",
      "source": [
        "첫번재 숫자를 입력 ==>100\n",
        "두번재 숫자를 입력 ==>200\n",
        " 100 + 200 = 300 \n",
        " 100 - 200 = -100\n",
        " 100 / 200 = 0.5\n",
        " 100 * 200 = 20000"
      ],
      "metadata": {
        "id": "ZSAMYktCMi_o"
      },
      "execution_count": null,
      "outputs": []
    },
    {
      "cell_type": "code",
      "source": [
        "print(\"** 논술형 문제 - input() 함수를 이용한 간단한 계산기\");\n",
        "num1 = float(input(\"첫번째 숫자를 입력\"));\n",
        "num2 = float(input(\"두번째 숫자를 입력\"));\n",
        "print(num1,\"+\",num2, \"=\" ,num1+num2)"
      ],
      "metadata": {
        "id": "xZn4-bY_LCmx"
      },
      "execution_count": null,
      "outputs": []
    },
    {
      "cell_type": "code",
      "source": [
        "name = input(\"이름 ==> \")\n",
        "phoneNumber = input(\"전화번호 ==> \")\n",
        "\n",
        "print(f\"제 이름은 {최예나}이고, 연락처는 {phoneNumber}입니다.\")"
      ],
      "metadata": {
        "id": "cxWVP3CSOsbY"
      },
      "execution_count": null,
      "outputs": []
    },
    {
      "cell_type": "code",
      "source": [
        "이름 ==> 최예나\n",
        "전화번호 ==> 0101234-1234\n",
        "제이름은 최예나고 연락처는 01012341234 입니닷"
      ],
      "metadata": {
        "id": "OqDqkFf4XRBH"
      },
      "execution_count": null,
      "outputs": []
    },
    {
      "cell_type": "code",
      "source": [
        "print(\"## 택배를 보내기 위한 정보를 입력하세요. ##\")\n",
        "human = input(\"받는 사람 : \");\n",
        "home = input(\"주소 : \"));\n",
        "g = int(input(\"무게 : \"));\n",
        "print(\"**받는사람 ==> \" , human);\n",
        "print(\"**주소 ==> \" ,home);\n",
        "print(\"배송비 :\", g * 5, \"원\");\n"
      ],
      "metadata": {
        "id": "coy8M1UPRnwn"
      },
      "execution_count": null,
      "outputs": []
    },
    {
      "cell_type": "code",
      "source": [
        "## 택배를 보내고 위한 정보를 입력하세요 ##\");\n",
        "받는사람 : 최예나\n",
        "주소 : 서울특별시 강남구 삼성동\n",
        "무게 : 1000\n",
        "** 받는사람 ==> 최예나\n",
        "** 주소 ==> 서울특별시 강남구 삼성동\n",
        "배송비 : 무료"
      ],
      "metadata": {
        "id": "QfdJap_SW0Cz"
      },
      "execution_count": null,
      "outputs": []
    },
    {
      "cell_type": "code",
      "source": [
        "num1 = int(input(\"숫자1 ==>\"));\n",
        "num2 = int(input(\"숫자2 ==>\"));\n",
        "\n",
        "print(num1, \"+\", num2, \"=\", num1+num2);\n",
        "print(num1, \"-\", num2, \"=\", num1-num2);\n",
        "print(num1, \"*\", num2, \"=\", num1*num2);\n",
        "print(num1, \"/\", num2, \"=\", num1/num2);\n",
        "print(num1, \"%\", num2, \"=\", num1%num2);\n",
        "print(num1, \"**\", num2, \"=\", num1**num2);\n",
        "\n"
      ],
      "metadata": {
        "id": "4bsqxdpyUG4P"
      },
      "execution_count": null,
      "outputs": []
    },
    {
      "cell_type": "code",
      "source": [
        "숫자1 ==> 4\n",
        "숫자2 ==> 2\n",
        "4 + 2 = 6\n",
        "4 - 2 = 2\n",
        "4 / 2 = 8\n",
        "4 * 2 = 2\n",
        "4 % 2 = 2\n",
        "4 ** 2 = 64"
      ],
      "metadata": {
        "id": "jLt-Nqe5Xcaj"
      },
      "execution_count": null,
      "outputs": []
    },
    {
      "cell_type": "code",
      "source": [
        "import ColabTurtle, Turtle as turtle\n",
        "\n",
        "\n",
        "turtle.initializeTurtle()\n",
        "\n",
        "for i in range(5) :\n",
        "  turtle.forward(200)\n",
        "  turtle.left(145)"
      ],
      "metadata": {
        "id": "H43u34oqWkfe"
      },
      "execution_count": null,
      "outputs": []
    }
  ]
}