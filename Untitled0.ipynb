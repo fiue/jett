{
  "nbformat": 4,
  "nbformat_minor": 0,
  "metadata": {
    "colab": {
      "name": "Untitled0.ipynb",
      "provenance": [],
      "authorship_tag": "ABX9TyMZyBdPfHMakgCyFfr8d8CI",
      "include_colab_link": true
    },
    "kernelspec": {
      "name": "python3",
      "display_name": "Python 3"
    },
    "language_info": {
      "name": "python"
    }
  },
  "cells": [
    {
      "cell_type": "markdown",
      "metadata": {
        "id": "view-in-github",
        "colab_type": "text"
      },
      "source": [
        "<a href=\"https://colab.research.google.com/github/fiue/jett/blob/main/Untitled0.ipynb\" target=\"_parent\"><img src=\"https://colab.research.google.com/assets/colab-badge.svg\" alt=\"Open In Colab\"/></a>"
      ]
    },
    {
      "cell_type": "markdown",
      "source": [
        "3장 연산자 \n",
        "형성평가 - 파운드를 킬로그램으로 번경"
      ],
      "metadata": {
        "id": "3EArugYWzZVk"
      }
    },
    {
      "cell_type": "code",
      "source": [
        "gdp = float(input(\"파운드를 입력하세요 : \"))\n",
        "print(gdp, \"파운드(lb)는\" ,gdp = 0.453592,\"킬로그램입니다\")\n",
        "kg = float(input(\"킬로그램을 입력하세요 : \"))\n",
        "print(kg,\"킬로그램은\",kg*2.204623,\"파운드입니다.\")"
      ],
      "metadata": {
        "id": "bPCuoSO-ziEG"
      },
      "execution_count": null,
      "outputs": []
    },
    {
      "cell_type": "code",
      "source": [
        "파운드를 입력하세요 : 15\n",
        "15.0 파운드(lb)는 6.8038799999999995 킬로그램입니다.\n",
        "킬로그램을 입력하세요 : 15\n",
        "15.0 킬로그램은 33.06934500000006 파운드 입니다."
      ],
      "metadata": {
        "id": "Fhr7oXQq42Cg"
      },
      "execution_count": null,
      "outputs": []
    },
    {
      "cell_type": "markdown",
      "source": [
        "형성평가 : 편의점 하루 매출 계산하기 "
      ],
      "metadata": {
        "id": "kYsZsIqh5NII"
      }
    },
    {
      "cell_type": "code",
      "source": [
        "total= int(0)\n",
        "total += 900 * 10\n",
        "total -= 1800 * 2\n",
        "total += 3500 * 5\n",
        "total += 4000 * 4\n",
        "total += 1500 * \n",
        "total += 2000 * 4\n",
        "total += 1800 * 5"
      ],
      "metadata": {
        "id": "5iqUUfsh5RtI"
      },
      "execution_count": null,
      "outputs": []
    }
  ]
}