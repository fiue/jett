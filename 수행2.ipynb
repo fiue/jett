{
  "nbformat": 4,
  "nbformat_minor": 0,
  "metadata": {
    "colab": {
      "provenance": [],
      "authorship_tag": "ABX9TyOA5yHdeYLMLJsbAXZVisgR",
      "include_colab_link": true
    },
    "kernelspec": {
      "name": "python3",
      "display_name": "Python 3"
    },
    "language_info": {
      "name": "python"
    }
  },
  "cells": [
    {
      "cell_type": "markdown",
      "metadata": {
        "id": "view-in-github",
        "colab_type": "text"
      },
      "source": [
        "<a href=\"https://colab.research.google.com/github/fiue/jett/blob/main/%EC%88%98%ED%96%892.ipynb\" target=\"_parent\"><img src=\"https://colab.research.google.com/assets/colab-badge.svg\" alt=\"Open In Colab\"/></a>"
      ]
    },
    {
      "cell_type": "code",
      "execution_count": null,
      "metadata": {
        "id": "_isRFHLdeU6f"
      },
      "outputs": [],
      "source": [
        "# 문자열 길이 비교\n",
        "var1 = input(\"첫 번째 문자열 ==>\")\n",
        "var2 = input(\"두 번째 문자열 ==>\")\n",
        "\n",
        "len1 = len(var1)\n",
        "len2 = len(var2)\n",
        "\n",
        "print(\"두 문자열의 길이 차이는\" , diff, \"입니다.\")"
      ]
    },
    {
      "cell_type": "code",
      "source": [
        "# 문자열 거꾸로 출력\n",
        "text=\"트와이스\"\n",
        "print('원본 문자열 ==>', text)\n",
        "print('변환 문자열 ==> ', text[-1], text[-2], text[-3], text[-4], sep='')"
      ],
      "metadata": {
        "colab": {
          "base_uri": "https://localhost:8080/"
        },
        "id": "jjo0Oq0LeYUZ",
        "outputId": "2cbf4532-ccb6-4ebd-9833-d36e76b8357b"
      },
      "execution_count": null,
      "outputs": [
        {
          "output_type": "stream",
          "name": "stdout",
          "text": [
            "원본 문자열 ==> 트와이스\n",
            "변환 문자열 ==> 스이와트\n",
            "12박\n"
          ]
        }
      ]
    },
    {
      "cell_type": "code",
      "source": [
        "#킬로그램 파운드변환"
      ],
      "metadata": {
        "id": "RsJG1z7OezDj"
      },
      "execution_count": null,
      "outputs": []
    },
    {
      "cell_type": "code",
      "source": [
        "pound = float(input(\"파운드를 입력하세요 ==>\"))\n",
        "print(pound,\"파운드는 \",pound*0.453592,\"킬로그램입니다.\")\n",
        "\n",
        "kg = float(input(\"킬로그램를 입력하세요 ==>\"))\n",
        "print(kg,\"킬로그램는 \",kg*2.20462,\"파운드입니다.\")\n"
      ],
      "metadata": {
        "colab": {
          "base_uri": "https://localhost:8080/"
        },
        "id": "AkQ6dAPEfod5",
        "outputId": "aad5b4a3-520a-4a46-fec2-d6e2de8c3355"
      },
      "execution_count": null,
      "outputs": [
        {
          "output_type": "stream",
          "name": "stdout",
          "text": [
            "파운드를 입력하세요 ==>23\n",
            "23.0 파운드는  10.432616 킬로그램입니다.\n",
            "킬로그램를 입력하세요 ==>39\n",
            "39.0 킬로그램는  85.98017999999999 파운드입니다.\n"
          ]
        }
      ]
    },
    {
      "cell_type": "code",
      "source": [
        "#대소문자변환"
      ],
      "metadata": {
        "id": "vyrvem8og7Ih"
      },
      "execution_count": null,
      "outputs": []
    },
    {
      "cell_type": "code",
      "source": [
        "text = 'Python'\n",
        "\n",
        "print('원본 문자열 ==>', text)\n",
        "print('변환 문자열 ==> ', text[0].lower(),text[1].upper(),text[2].upper(),text[3].upper(),text[4].upper(),text[5].upper(),sep='')"
      ],
      "metadata": {
        "colab": {
          "base_uri": "https://localhost:8080/"
        },
        "id": "fPitticMg-bY",
        "outputId": "7afd2cc2-5b99-4669-bf5a-6f54860979ea"
      },
      "execution_count": null,
      "outputs": [
        {
          "output_type": "stream",
          "name": "stdout",
          "text": [
            "원본 문자열 ==> Python\n",
            "변환 문자열 ==> pYTHON\n"
          ]
        }
      ]
    }
  ]
}