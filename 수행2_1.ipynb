{
  "nbformat": 4,
  "nbformat_minor": 0,
  "metadata": {
    "colab": {
      "provenance": [],
      "authorship_tag": "ABX9TyPO07DQTUwD52+mB0EgS1l3",
      "include_colab_link": true
    },
    "kernelspec": {
      "name": "python3",
      "display_name": "Python 3"
    },
    "language_info": {
      "name": "python"
    }
  },
  "cells": [
    {
      "cell_type": "markdown",
      "metadata": {
        "id": "view-in-github",
        "colab_type": "text"
      },
      "source": [
        "<a href=\"https://colab.research.google.com/github/fiue/jett/blob/main/%EC%88%98%ED%96%892_1.ipynb\" target=\"_parent\"><img src=\"https://colab.research.google.com/assets/colab-badge.svg\" alt=\"Open In Colab\"/></a>"
      ]
    },
    {
      "cell_type": "code",
      "execution_count": null,
      "metadata": {
        "id": "unhlJXPVkFYV"
      },
      "outputs": [],
      "source": [
        "#대소문자 변환"
      ]
    },
    {
      "cell_type": "code",
      "source": [
        "text = 'Python'\n",
        "\n",
        "print('원본 문자열 ==>', text)\n",
        "print('변환 문자열 ==> ', text[0].lower(),text[1].upper(),text[2].upper(),text[3].upper(),text[4].upper(),text[5].upper(),sep='')"
      ],
      "metadata": {
        "colab": {
          "base_uri": "https://localhost:8080/"
        },
        "id": "rrcOnGq3kS9x",
        "outputId": "165b4206-df47-464f-ad74-5c907bb6b1e6"
      },
      "execution_count": null,
      "outputs": [
        {
          "output_type": "stream",
          "name": "stdout",
          "text": [
            "원본 문자열 ==> Python\n",
            "변환 문자열 ==> pYTHON\n"
          ]
        }
      ]
    },
    {
      "cell_type": "code",
      "source": [
        "#문자열 거꾸로 출력"
      ],
      "metadata": {
        "id": "D1xG9mfyn5ap"
      },
      "execution_count": null,
      "outputs": []
    },
    {
      "cell_type": "code",
      "source": [
        "text=\"트와이스\"\n",
        "print('원본 문자열 ==>', text)\n",
        "print('반대 문자열 ==> ', text[-1], text[-2], text[-3], text[-4], sep='')"
      ],
      "metadata": {
        "colab": {
          "base_uri": "https://localhost:8080/"
        },
        "id": "_ony1NqsoBMb",
        "outputId": "7cf94edb-9921-4820-c2ba-7ee134f49124"
      },
      "execution_count": 4,
      "outputs": [
        {
          "output_type": "stream",
          "name": "stdout",
          "text": [
            "원본 문자열 ==> 트와이스\n",
            "반대 문자열 ==> 스이와트\n"
          ]
        }
      ]
    },
    {
      "cell_type": "code",
      "source": [
        "#문자열 길이 비교"
      ],
      "metadata": {
        "id": "uGZsYSDnxY_s"
      },
      "execution_count": null,
      "outputs": []
    },
    {
      "cell_type": "code",
      "source": [
        "\n",
        "var1 = input(\"첫 번째 문자열 ==>\")\n",
        "var2 = input(\"두 번째 문자열 ==>\")\n",
        "\n",
        "len1 = len(var1)\n",
        "len2 = len(var2)\n",
        "\n",
        "print(\"두 문자열의 길이 차이는\" , -4, \"입니다.\")"
      ],
      "metadata": {
        "colab": {
          "base_uri": "https://localhost:8080/"
        },
        "id": "fyyInAP_xjKC",
        "outputId": "69cbf737-ea57-4af6-f976-871c35057134"
      },
      "execution_count": 11,
      "outputs": [
        {
          "output_type": "stream",
          "name": "stdout",
          "text": [
            "첫 번째 문자열 ==>난생처음 파이썬\n",
            "두 번째 문자열 ==>First Python\n",
            "두 문자열의 길이 차이는 -4 입니다.\n"
          ]
        }
      ]
    },
    {
      "cell_type": "code",
      "source": [
        "#파운드 킬로그램 전환"
      ],
      "metadata": {
        "id": "QBECY5WR1TgV"
      },
      "execution_count": null,
      "outputs": []
    },
    {
      "cell_type": "code",
      "source": [
        "pound = float(input(\"파운드를 입력하세요 ==>\"))\n",
        "print(pound,\"파운드는 \",pound*0.453592,\"킬로그램입니다.\")\n",
        "\n",
        "kg = float(input(\"킬로그램를 입력하세요 ==>\"))\n",
        "print(kg,\"킬로그램는 \",kg*2.20462,\"파운드입니다.\")\n"
      ],
      "metadata": {
        "colab": {
          "base_uri": "https://localhost:8080/"
        },
        "id": "wo20LUoc1aOT",
        "outputId": "46e77be8-6503-4568-be3e-c87015e43b3f"
      },
      "execution_count": 14,
      "outputs": [
        {
          "output_type": "stream",
          "name": "stdout",
          "text": [
            "파운드를 입력하세요 ==>15\n",
            "15.0 파운드는  6.8038799999999995 킬로그램입니다.\n",
            "킬로그램를 입력하세요 ==>15\n",
            "15.0 킬로그램는  33.0693 파운드입니다.\n"
          ]
        }
      ]
    }
  ]
}