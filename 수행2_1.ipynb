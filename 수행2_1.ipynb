{
  "nbformat": 4,
  "nbformat_minor": 0,
  "metadata": {
    "colab": {
      "provenance": [],
      "authorship_tag": "ABX9TyMgMKIGHFq4KiLHpo447P3Q",
      "include_colab_link": true
    },
    "kernelspec": {
      "name": "python3",
      "display_name": "Python 3"
    },
    "language_info": {
      "name": "python"
    }
  },
  "cells": [
    {
      "cell_type": "markdown",
      "metadata": {
        "id": "view-in-github",
        "colab_type": "text"
      },
      "source": [
        "<a href=\"https://colab.research.google.com/github/fiue/jett/blob/main/%EC%88%98%ED%96%892_1.ipynb\" target=\"_parent\"><img src=\"https://colab.research.google.com/assets/colab-badge.svg\" alt=\"Open In Colab\"/></a>"
      ]
    },
    {
      "cell_type": "code",
      "execution_count": null,
      "metadata": {
        "id": "unhlJXPVkFYV"
      },
      "outputs": [],
      "source": [
        "#대소문자 변환"
      ]
    },
    {
      "cell_type": "code",
      "source": [
        "text = 'Python'\n",
        "\n",
        "print('원본 문자열 ==>', text)\n",
        "print('변환 문자열 ==> ', text[0].lower(),text[1].upper(),text[2].upper(),text[3].upper(),text[4].upper(),text[5].upper(),sep='')"
      ],
      "metadata": {
        "colab": {
          "base_uri": "https://localhost:8080/"
        },
        "id": "rrcOnGq3kS9x",
        "outputId": "165b4206-df47-464f-ad74-5c907bb6b1e6"
      },
      "execution_count": null,
      "outputs": [
        {
          "output_type": "stream",
          "name": "stdout",
          "text": [
            "원본 문자열 ==> Python\n",
            "변환 문자열 ==> pYTHON\n"
          ]
        }
      ]
    },
    {
      "cell_type": "code",
      "source": [
        "#문자열 거꾸로 출력"
      ],
      "metadata": {
        "id": "D1xG9mfyn5ap"
      },
      "execution_count": null,
      "outputs": []
    },
    {
      "cell_type": "code",
      "source": [
        "text=\"트와이스\"\n",
        "print('원본 문자열 ==>', text)\n",
        "print('반대 문자열 ==> ', text[-1], text[-2], text[-3], text[-4], sep='')"
      ],
      "metadata": {
        "colab": {
          "base_uri": "https://localhost:8080/"
        },
        "id": "_ony1NqsoBMb",
        "outputId": "7cf94edb-9921-4820-c2ba-7ee134f49124"
      },
      "execution_count": 4,
      "outputs": [
        {
          "output_type": "stream",
          "name": "stdout",
          "text": [
            "원본 문자열 ==> 트와이스\n",
            "반대 문자열 ==> 스이와트\n"
          ]
        }
      ]
    }
  ]
}