{
  "nbformat": 4,
  "nbformat_minor": 0,
  "metadata": {
    "colab": {
      "provenance": [],
      "authorship_tag": "ABX9TyN7Puy26I/Wn82QWhL322PX",
      "include_colab_link": true
    },
    "kernelspec": {
      "name": "python3",
      "display_name": "Python 3"
    },
    "language_info": {
      "name": "python"
    }
  },
  "cells": [
    {
      "cell_type": "markdown",
      "metadata": {
        "id": "view-in-github",
        "colab_type": "text"
      },
      "source": [
        "<a href=\"https://colab.research.google.com/github/fiue/jett/blob/main/%EC%88%98%ED%96%89_3_1.ipynb\" target=\"_parent\"><img src=\"https://colab.research.google.com/assets/colab-badge.svg\" alt=\"Open In Colab\"/></a>"
      ]
    },
    {
      "cell_type": "code",
      "execution_count": 1,
      "metadata": {
        "colab": {
          "base_uri": "https://localhost:8080/"
        },
        "id": "CfAjS-XIcWkK",
        "outputId": "7541d89a-abce-4c80-d2a4-584a1e4603b4"
      },
      "outputs": [
        {
          "output_type": "stream",
          "name": "stdout",
          "text": [
            "숫자를 입력 ==> 1773\n",
            "홀수입니다.\n"
          ]
        }
      ],
      "source": [
        "num = int(input(\"숫자를 입력 ==> \"))\n",
        "\n",
        "if num % 2 ==0 :\n",
        "    print(\"짝수입니다.\")\n",
        "else :\n",
        "    print(\"홀수입니다.\")    "
      ]
    },
    {
      "cell_type": "code",
      "source": [
        "num = int(input(\"숫자를 입력 ==> \"))\n",
        "\n",
        "if num > 100 :\n",
        "  if num < 1000 :\n",
        "      print(\"100보다 작군요\")\n",
        "  else :\n",
        "      print(\"100에서 1000 사이다.\")\n",
        "else :\n",
        "    print(\"1000보다 크군요.\")  \n",
        "    "
      ],
      "metadata": {
        "colab": {
          "base_uri": "https://localhost:8080/"
        },
        "id": "qzqnMgdCeE1i",
        "outputId": "80631be9-a45c-4fa0-9573-70efd41a15a1"
      },
      "execution_count": 8,
      "outputs": [
        {
          "output_type": "stream",
          "name": "stdout",
          "text": [
            "숫자를 입력 ==> 150\n",
            "100보다 작군요\n"
          ]
        }
      ]
    },
    {
      "cell_type": "code",
      "source": [
        "score = int(input(\"점수를 입력 ==> \"))\n",
        "\n",
        "if score >= 90 :\n",
        "    print(\"A\", end='')\n",
        "else :\n",
        "  if score >= 80 :\n",
        "      print(\"B\", end='')\n",
        "  else :\n",
        "    if score >= 70 :\n",
        "        print(\"C\", end ='')\n",
        "    else :\n",
        "      if score >= 60 :\n",
        "          print(\"D\", end='')\n",
        "      else :\n",
        "        print(\"F\", end='')     "
      ],
      "metadata": {
        "colab": {
          "base_uri": "https://localhost:8080/"
        },
        "id": "qnhArvKVgJvr",
        "outputId": "7d4bd181-fcd1-42c3-e3f9-334b128c208c"
      },
      "execution_count": 14,
      "outputs": [
        {
          "output_type": "stream",
          "name": "stdout",
          "text": [
            "점수를 입력 ==> 77\n",
            "C"
          ]
        }
      ]
    },
    {
      "cell_type": "code",
      "source": [
        "import random\n",
        "myHand = input(\"나의 가위/바위/보 ==>\")\n",
        "comHand = random.choice([\"가위\", \"바위\", \"보\"])\n",
        "print(\"컴퓨터의 가위/바위/보 ==>\" ,comHand)\n",
        "\n",
        "if myHand == comHand :\n",
        "  print(\"비겼습니다. --.--\")\n",
        "\n",
        "elif (myHand == \"가위\" and comHand == \"보\") or \\\n",
        "     (myHand == \"가위\" and comHand == \"보\") or \\\n",
        "     (myHand == \"보\" and comHand == \"바위\") :\n",
        "  print(\"이겼습니다. ^^\")\n",
        "else :\n",
        "  print(\"졌습니다. ㅜㅜ\")  "
      ],
      "metadata": {
        "colab": {
          "base_uri": "https://localhost:8080/"
        },
        "id": "Wqx8JkO5h6MO",
        "outputId": "374f916f-2268-4f2a-bd31-c9cf58c5cfb4"
      },
      "execution_count": 17,
      "outputs": [
        {
          "output_type": "stream",
          "name": "stdout",
          "text": [
            "나의 가위/바위/보 ==>보\n",
            "컴퓨터의 가위/바위/보 ==> 보\n",
            "비겼습니다. --.--\n"
          ]
        }
      ]
    }
  ]
}